{
 "cells": [
  {
   "cell_type": "markdown",
   "metadata": {},
   "source": [
    "# 05 - H2 Dissociation"
   ]
  },
  {
   "cell_type": "markdown",
   "metadata": {},
   "source": [
    "**Overview** \n",
    "\n",
    "This notebook guides you through ...  "
   ]
  },
  {
   "cell_type": "code",
   "execution_count": null,
   "metadata": {},
   "outputs": [],
   "source": [
    "# @title Modules Setup { display-mode: \"form\" }\n",
    "import numpy as np\n",
    "# Install Plotly (if not already)\n",
    "!pip install -q plotly > /dev/null\n",
    "import plotly.graph_objects as go\n",
    "from plotly.subplots import make_subplots\n",
    "import matplotlib.pyplot as plt\n",
    "!pip install -q rdkit > /dev/null\n",
    "from rdkit import Chem\n",
    "from rdkit.Chem import AllChem\n",
    "from rdkit.Chem import Draw"
   ]
  },
  {
   "cell_type": "markdown",
   "metadata": {},
   "source": [
    "**Problem** \n",
    "\n",
    "Lorem Ipsum ... \n",
    "\n",
    "**Model**\n",
    "\n",
    "Lorem Ipsum ...\n",
    "\n",
    ">Smart question?\n",
    "\n",
    "Lorem Ipsum ..."
   ]
  },
  {
   "cell_type": "markdown",
   "metadata": {},
   "source": [
    "## Part 1: Understanding Quantum Chemistry Basis Sets"
   ]
  },
  {
   "cell_type": "markdown",
   "metadata": {},
   "source": [
    "**Questions**\n",
    "\n",
    "Before you run any simulation, answer the following question(s):\n",
    "\n",
    "1. What are the main differences between a gaussian and the solution of the hydrogen atom (exponential decay)?\n",
    "2. If you need to represent the electron-electron interaction in a basis set of atomic functions centered on the different atoms, how many integrals do you need to compute? \n",
    "\n",
    "Run the simulation, change the parameters, and run the simulation again as many times as needed to answer the following question(s):\n",
    "\n",
    "3. Other questions"
   ]
  },
  {
   "cell_type": "code",
   "execution_count": null,
   "metadata": {},
   "outputs": [],
   "source": [
    "# @title GTOs vs STOs { display-mode: \"form\" }\n",
    "n = 1 # @param {type:\"integer\"}\n",
    "z = 1 # @param {type:\"integer\"}\n",
    "logscale = False # @param {type:\"boolean\"}\n",
    "\n",
    "# Define the radial part of the STO\n",
    "def R_sto(n, z, r):\n",
    "    \"\"\"Radial part of the Slater-type orbital (STO)\"\"\"\n",
    "    normalization = (2 * z)**(n + 0.5) / np.sqrt(np.math.factorial(2 * n))\n",
    "    return normalization * r**(n - 1) * np.exp(-z * r)\n",
    "# Define the radial part of the GTO\n",
    "def R_gto(n, z, r):\n",
    "    \"\"\"Radial part of the Gaussian-type orbital (GTO)\"\"\"\n",
    "    normalization = (2 * z / np.pi)**0.75 * (4 * z)**n / np.sqrt(np.math.factorial(2 * n))\n",
    "    return normalization * r**(n - 1) * np.exp(-z * r**2)\n",
    "# Generate a range of r values\n",
    "r = np.linspace(0, 5, 400)\n",
    "# Calculate the STO and GTO values\n",
    "sto_values = R_sto(n, z, r)\n",
    "gto_values = R_gto(n, z, r)\n",
    "# Create the plot\n",
    "fig = go.Figure()\n",
    "fig.add_trace(go.Scatter(x=r, y=sto_values, mode='lines', name='STO', line=dict(color='blue')))\n",
    "fig.add_trace(go.Scatter(x=r, y=gto_values, mode='lines', name='GTO', line=dict(color='red')))\n",
    "fig.update_layout(title=f'STO vs GTO (n={n}, z={z})',\n",
    "                  xaxis_title='r (distance from nucleus)',\n",
    "                  yaxis_title='Radial Function',\n",
    "                  yaxis_type='log' if logscale else 'linear')\n",
    "fig.show()"
   ]
  },
  {
   "cell_type": "code",
   "execution_count": null,
   "metadata": {},
   "outputs": [],
   "source": [
    "# @title Why Gaussians? { display-mode: \"form\" }\n",
    "alpha = 1.0 # @param {type:\"number\"}\n",
    "beta = 1.0  # @param {type:\"number\"}\n",
    "gamma = 1.0 # @param {type:\"number\"}\n",
    "delta = 1.0 # @param {type:\"number\"} \n",
    "integral = \"overlap\"  # @param [\"overlap\", \"electron-nuclear\", \"electron-electron\"]\n",
    "logscale = False # @param {type:\"boolean\"}"
   ]
  },
  {
   "cell_type": "code",
   "execution_count": null,
   "metadata": {},
   "outputs": [],
   "source": [
    "# @title Run and Visualize the Simulation  { display-mode: \"form\" }\n",
    "# Initial conditions\n",
    "\n",
    "\n",
    "# Run the simulation \n",
    "\n",
    "\n",
    "# The following code creates an animated plot using Plotly\n",
    "# --- Initial figure ---\n",
    "fig = make_subplots(\n",
    "    rows=2, cols=1,\n",
    "    shared_xaxes=False,\n",
    "    row_heights=[0.4, 0.6],           # Bottom plot a bit taller\n",
    "    vertical_spacing=0.20,            # Increase spacing between plots\n",
    "    subplot_titles=(\"A\", \"B\")\n",
    ")\n",
    "\n",
    "# Initial plots\n",
    "\n",
    "\n",
    "# --- Animation frames ---\n",
    "frames = []\n",
    "\n",
    "# ✅ Don't forget to assign frames\n",
    "fig.frames = frames\n",
    "fig.show()"
   ]
  },
  {
   "cell_type": "markdown",
   "metadata": {},
   "source": [
    "**Homework Assignment**\n",
    "\n",
    "Pick one (or more) of the following projects:\n",
    "1. Modify the code to xxx\n",
    "2. Modify the code to xxx\n",
    "3. Modify the code to handle one of the following systems:\n",
    "    * xxx\n",
    "    * xxx \n",
    "    * xxx\n",
    "\n",
    "For the modified code, answer the following questions:\n",
    "\n",
    "NOTE: It is not necessary that the modified code produces an animation, but you should be able to visualize the results of the simulation in some way. "
   ]
  }
 ],
 "metadata": {
  "colab": {
   "provenance": []
  },
  "kernelspec": {
   "display_name": "Python 3",
   "name": "python3"
  },
  "language_info": {
   "codemirror_mode": {
    "name": "ipython",
    "version": 3
   },
   "file_extension": ".py",
   "mimetype": "text/x-python",
   "name": "python",
   "nbconvert_exporter": "python",
   "pygments_lexer": "ipython3"
  }
 },
 "nbformat": 4,
 "nbformat_minor": 0
}
