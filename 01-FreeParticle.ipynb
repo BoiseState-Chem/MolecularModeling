{
 "cells": [
  {
   "cell_type": "markdown",
   "metadata": {},
   "source": [
    "# 01 - Simulating Free Particles in One Dimension"
   ]
  },
  {
   "cell_type": "markdown",
   "metadata": {},
   "source": [
    "**Overview** \n",
    "\n",
    "This notebook guides you through one of the simplest systems we can model, a collection of free classical particles (atoms, electrons, molecules) traveling in a one-dimensional simulation space, with particle-particle interactions modelled as reflecting hard-sphere potentials.  "
   ]
  },
  {
   "cell_type": "markdown",
   "metadata": {},
   "source": [
    "**Problem** \n",
    "\n",
    "Let's assume we have a carbon nanotube or an aquaporin protein (aka a water-channel protein) filled with water molecules at arbitrary positions. The water molecules are all identical (same mass) and they all start with the same speed, randomly oriented either up or down the channel. Assume that water molecules move as free particles in one dimension and that they have completely elastic collisions with each other. \n",
    "\n",
    ">Given that the channel length is 10 nm, and the speed of the molecules is 1 nm/ns, what is the maximum time that it takes for all the water molecules to get out of the channel?\n",
    "\n",
    "In the following we will run a simulation with only two particles. To make the simulation results more clear, one of the particles will start at the origin, and the other particle will start in the middle of the channel and will have a speed twice as large as the first particle. Moreover, the simulation has reflecting hard walls, meaning that when a particle hits the ends of the channel it will bounce back. "
   ]
  },
  {
   "cell_type": "markdown",
   "metadata": {},
   "source": [
    "**Questions**\n",
    "\n",
    "Before you run any simulation, answer the following question(s):\n",
    "\n",
    "1. Consider a simplified problem where you only have one of the two particles at a time. Can you predict and draw a sketch of the trajectory (x vs. t) for these systems?\n",
    "\n",
    "Run the simulation, change the parameters, and run the simulation again as many times as needed to answer the following question(s):\n",
    "\n",
    "2. The simulation has a few parameters that you can play with explicitly. Which of these parameters is/are connected to the underlying physics of the problem (physical parameters) and which of these is/are instead connected to the numerical simulation (numerical parameters)?  \n",
    "3. For the physical parameter(s), what experimental observable is connected to the parameters or, alternatively, how would you set their initial values? \n",
    "4. For the numerical parameter(s), how do they affect the accuracy of the results? In other words, does the simulation run correctly for all possible values of these parameters? What issues do you find?\n",
    "5. For the numerical parameter(s), how do they affect the computational cost of the simulation? \n",
    "6. How would you decide the best value of the numerical parameters, given the physical properties of the system?\n",
    "7. The simulation loop is hiding (at least) one more numerical parameter, which is not explicitly exposed to the user. Can you find it and explain what it is?\n",
    "8. The simulation loop is designed for 2 particles. How many operations (lines of code) apply to each particle? How many operations apply to each pair of particles? If you where to trivially extend the code to N particles, what would be the scaling of the code with N? "
   ]
  },
  {
   "cell_type": "markdown",
   "metadata": {},
   "source": [
    "**Notebook Setup** \n",
    "\n",
    "In Python programs we will always rely on a variety of features that go beyond basic programming tools. These features are collected in specialized packages called Modules, which we need to import in our script/notebook in order to be able to use them. While we can import these modules at any time in our program, we will try to keep the declarations of modules at the very beginning of every notebook. "
   ]
  },
  {
   "cell_type": "code",
   "execution_count": null,
   "metadata": {},
   "outputs": [],
   "source": [
    "# @title Modules Setup { display-mode: \"form\" }\n",
    "import numpy as np\n",
    "# Install Plotly (if not already)\n",
    "!pip install -q plotly\n",
    "import plotly.graph_objects as go\n",
    "from plotly.subplots import make_subplots"
   ]
  },
  {
   "cell_type": "code",
   "execution_count": null,
   "metadata": {},
   "outputs": [],
   "source": [
    "# @title Simulation Parameters  { display-mode: \"form\" }\n",
    "channel_length = 10.0 # @param {type:\"number\"}\n",
    "velocity_scale = 1  # @param {type:\"number\"}\n",
    "dt = 0.1  # @param {type:\"number\"}\n",
    "nsteps = 1000  # @param {type:\"integer\"}\n",
    "frame_stride = 1 # @param {type:\"integer\"}\n",
    "total_time = nsteps * dt"
   ]
  },
  {
   "cell_type": "code",
   "execution_count": null,
   "metadata": {},
   "outputs": [],
   "source": [
    "# @title Run and Visualize the Simulation  { display-mode: \"form\" }\n",
    "# Initial conditions\n",
    "position_a = 0.\n",
    "velocity_a = 1.0 * velocity_scale\n",
    "position_b = 5.\n",
    "velocity_b = -2.0 * velocity_scale\n",
    "\n",
    "trajectory_a = []\n",
    "trajectory_b = []\n",
    "time = []\n",
    "\n",
    "# Run the simulation loop\n",
    "t = 0\n",
    "for _ in range(nsteps):\n",
    "    time.append(t)\n",
    "    trajectory_a.append(position_a)\n",
    "    trajectory_b.append(position_b)\n",
    "\n",
    "    position_a += velocity_a * dt\n",
    "    position_b += velocity_b * dt\n",
    "\n",
    "    # Elastic collision check\n",
    "    if abs(position_b - position_a) < 1e-1:\n",
    "        velocity_a, velocity_b = velocity_b, velocity_a\n",
    "\n",
    "    # Reflect at walls\n",
    "    if position_a > channel_length or position_a < 0:\n",
    "        velocity_a = -velocity_a\n",
    "    if position_b > channel_length or position_b < 0:\n",
    "        velocity_b = -velocity_b\n",
    "\n",
    "    t += dt\n",
    "\n",
    "# The following code creates an animated plot using Plotly\n",
    "# --- Initial figure ---\n",
    "fig = make_subplots(\n",
    "    rows=2, cols=1,\n",
    "    shared_xaxes=False,\n",
    "    row_heights=[0.4, 0.6],           # Bottom plot a bit taller\n",
    "    vertical_spacing=0.20,            # Increase spacing between plots\n",
    "    subplot_titles=(\"Particle Positions\", \"Trajectories\")\n",
    ")\n",
    "\n",
    "# Initial positions\n",
    "fig.add_trace(go.Scatter(x=[trajectory_a[0]], y=[0], mode='markers', marker=dict(size=15), name='A'), row=1, col=1)\n",
    "fig.add_trace(go.Scatter(x=[trajectory_b[0]], y=[0], mode='markers', marker=dict(size=15), name='B'), row=1, col=1)\n",
    "\n",
    "# Initial trajectory lines\n",
    "fig.add_trace(go.Scatter(x=[time[0]], y=[trajectory_a[0]], mode='lines', name='A Trajectory',\n",
    "                         line=dict(color='blue')), row=2, col=1)\n",
    "fig.add_trace(go.Scatter(x=[time[0]], y=[trajectory_b[0]], mode='lines', name='B Trajectory',\n",
    "                         line=dict(color='red')), row=2, col=1)\n",
    "\n",
    "# --- Animation frames ---\n",
    "frames = []\n",
    "\n",
    "for i in range(frame_stride, nsteps, frame_stride):\n",
    "    frames.append(go.Frame(\n",
    "        data=[\n",
    "            go.Scatter(x=[trajectory_a[i]], y=[0], mode='markers', marker=dict(size=15)),\n",
    "            go.Scatter(x=[trajectory_b[i]], y=[0], mode='markers', marker=dict(size=15)),\n",
    "            go.Scatter(x=time[:i], y=trajectory_a[:i], mode='lines', line=dict(color='blue')),\n",
    "            go.Scatter(x=time[:i], y=trajectory_b[:i], mode='lines', line=dict(color='red')),\n",
    "        ]\n",
    "    ))\n",
    "fig.update_layout(\n",
    "    height=600,\n",
    "    title=f\"1D Hard Sphere Simulation (velocity_scale={velocity_scale}, dt={dt})\",\n",
    "    \n",
    "    # Top subplot: positions\n",
    "    xaxis=dict(range=[0, channel_length], title=\"Position\"),\n",
    "    yaxis=dict(showticklabels=False),\n",
    "    \n",
    "    # Bottom subplot: trajectories\n",
    "    xaxis2=dict(title=\"Time\", range=[0, nsteps * dt]),       # ✅ full time range\n",
    "    yaxis2=dict(title=\"Position\", range=[0, channel_length]),           # ✅ full spatial range\n",
    "\n",
    "    updatemenus=[\n",
    "        dict(\n",
    "            type='buttons',\n",
    "            showactive=False,\n",
    "            buttons=[\n",
    "                dict(label='Play',\n",
    "                     method='animate',\n",
    "                     args=[None, {\n",
    "                         \"frame\": {\"duration\": 30, \"redraw\": True},\n",
    "                         \"fromcurrent\": True,\n",
    "                         \"transition\": {\"duration\": 0}\n",
    "                     }])\n",
    "            ]\n",
    "        )\n",
    "    ]\n",
    ")\n",
    "\n",
    "# ✅ Don't forget to assign frames\n",
    "fig.frames = frames\n",
    "fig.show()"
   ]
  },
  {
   "cell_type": "markdown",
   "metadata": {},
   "source": [
    "**Homework Assignment**\n",
    "\n",
    "Pick one (or more) of the following projects:\n",
    "1. Modify the code to handle vanishing/absorbing boundary coditions \n",
    "2. Modify the code to handle periodic boundary conditions\n",
    "3. Modify the code to handle more than 2 particles\n",
    "4. Modify the code to run the simulation in 2 dimensions\n",
    "\n",
    "For the modified code, report a plausible physical system that can be modeled using the code. Report convergence tests on the numerical parameters of the simulation. Report results of multiple simulations as you vary the physical parameters of the system. \n",
    "\n",
    "NOTE: It is not necessary that the modified code produces an animation, but you should be able to visualize the results of the simulation in some way. "
   ]
  }
 ],
 "metadata": {
  "colab": {
   "provenance": []
  },
  "kernelspec": {
   "display_name": "Python 3",
   "name": "python3"
  },
  "language_info": {
   "codemirror_mode": {
    "name": "ipython",
    "version": 3
   },
   "file_extension": ".py",
   "mimetype": "text/x-python",
   "name": "python",
   "nbconvert_exporter": "python",
   "pygments_lexer": "ipython3"
  }
 },
 "nbformat": 4,
 "nbformat_minor": 0
}
