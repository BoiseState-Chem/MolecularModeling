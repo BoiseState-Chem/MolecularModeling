{
 "cells": [
  {
   "cell_type": "markdown",
   "metadata": {},
   "source": [
    "# 01 - Simulating Free Particles in One Dimension"
   ]
  },
  {
   "cell_type": "markdown",
   "metadata": {},
   "source": [
    "**Overview**: This notebook guides you through one of the simplest systems we can model, a collection of free classical particles (atoms, electrons, molecules) traveling in a one-dimensional simulation space, with hard-sphere interactions among themselves and with the walls of the simulation cell.  "
   ]
  },
  {
   "cell_type": "markdown",
   "metadata": {},
   "source": [
    "In Python programs we will always rely on a variety of features that go beyond basic programming tools. These features are collected in specialized packages called Modules, which we need to import in our script/notebook in order to be able to use them. While we can import these modules at any time in our program, we will try to keep the declarations of modules at the very beginning of every notebook. "
   ]
  },
  {
   "cell_type": "code",
   "execution_count": null,
   "metadata": {},
   "outputs": [],
   "source": [
    "# @title Modules Setup\n",
    "import numpy as np\n",
    "# Install Plotly (if not already)\n",
    "!pip install -q plotly\n",
    "import plotly.graph_objects as go\n",
    "from plotly.subplots import make_subplots"
   ]
  },
  {
   "cell_type": "code",
   "execution_count": null,
   "metadata": {},
   "outputs": [],
   "source": [
    "# @title Simulation Parameters\n",
    "velocity_scale = 10  # @param {type:\"number\"}\n",
    "dt = 0.001  # @param {type:\"number\"}\n",
    "nsteps = 3000  # @param {type:\"integer\"}\n",
    "total_time = nsteps * dt\n",
    "\n",
    "# Constants for simulation\n",
    "box = 10.0"
   ]
  },
  {
   "cell_type": "code",
   "execution_count": null,
   "metadata": {},
   "outputs": [],
   "source": [
    "# @title Run and Visualize the Simulation\n",
    "# Initial conditions\n",
    "position_a = 0.\n",
    "velocity_a = 1.0 * velocity_scale\n",
    "position_b = 5.\n",
    "velocity_b = -2.0 * velocity_scale\n",
    "\n",
    "trajectory_a = []\n",
    "trajectory_b = []\n",
    "time = []\n",
    "\n",
    "t = 0\n",
    "for _ in range(nsteps):\n",
    "    time.append(t)\n",
    "    trajectory_a.append(position_a)\n",
    "    trajectory_b.append(position_b)\n",
    "\n",
    "    position_a += velocity_a * dt\n",
    "    position_b += velocity_b * dt\n",
    "\n",
    "    # Elastic collision check\n",
    "    if abs(position_b - position_a) < 1e-1:\n",
    "        velocity_a, velocity_b = velocity_b, velocity_a\n",
    "\n",
    "    # Reflect at walls\n",
    "    if position_a > box or position_a < 0:\n",
    "        velocity_a = -velocity_a\n",
    "    if position_b > box or position_b < 0:\n",
    "        velocity_b = -velocity_b\n",
    "\n",
    "    t += dt\n",
    "\n",
    "# --- Initial figure ---\n",
    "fig = make_subplots(\n",
    "    rows=2, cols=1,\n",
    "    shared_xaxes=False,\n",
    "    row_heights=[0.4, 0.6],           # Bottom plot a bit taller\n",
    "    vertical_spacing=0.20,            # Increase spacing between plots\n",
    "    subplot_titles=(\"Particle Positions\", \"Trajectories\")\n",
    ")\n",
    "\n",
    "\n",
    "# Initial positions\n",
    "fig.add_trace(go.Scatter(x=[trajectory_a[0]], y=[0], mode='markers', marker=dict(size=15), name='A'), row=1, col=1)\n",
    "fig.add_trace(go.Scatter(x=[trajectory_b[0]], y=[0], mode='markers', marker=dict(size=15), name='B'), row=1, col=1)\n",
    "\n",
    "# Initial trajectory lines\n",
    "fig.add_trace(go.Scatter(x=[time[0]], y=[trajectory_a[0]], mode='lines', name='A Trajectory',\n",
    "                         line=dict(color='blue')), row=2, col=1)\n",
    "fig.add_trace(go.Scatter(x=[time[0]], y=[trajectory_b[0]], mode='lines', name='B Trajectory',\n",
    "                         line=dict(color='red')), row=2, col=1)\n",
    "\n",
    "# --- Animation frames ---\n",
    "frames = []\n",
    "frame_stride = 10  # Reduce total frames\n",
    "\n",
    "for i in range(frame_stride, nsteps, frame_stride):\n",
    "    frames.append(go.Frame(\n",
    "        data=[\n",
    "            go.Scatter(x=[trajectory_a[i]], y=[0], mode='markers', marker=dict(size=15)),\n",
    "            go.Scatter(x=[trajectory_b[i]], y=[0], mode='markers', marker=dict(size=15)),\n",
    "            go.Scatter(x=time[:i], y=trajectory_a[:i], mode='lines', line=dict(color='blue')),\n",
    "            go.Scatter(x=time[:i], y=trajectory_b[:i], mode='lines', line=dict(color='red')),\n",
    "        ]\n",
    "    ))\n",
    "fig.update_layout(\n",
    "    height=600,\n",
    "    title=f\"1D Hard Sphere Simulation (velocity_scale={velocity_scale}, dt={dt})\",\n",
    "    \n",
    "    # Top subplot: positions\n",
    "    xaxis=dict(range=[0, box], title=\"Position\"),\n",
    "    yaxis=dict(showticklabels=False),\n",
    "    \n",
    "    # Bottom subplot: trajectories\n",
    "    xaxis2=dict(title=\"Time\", range=[0, nsteps * dt]),       # ✅ full time range\n",
    "    yaxis2=dict(title=\"Position\", range=[0, box]),           # ✅ full spatial range\n",
    "\n",
    "    updatemenus=[\n",
    "        dict(\n",
    "            type='buttons',\n",
    "            showactive=False,\n",
    "            buttons=[\n",
    "                dict(label='Play',\n",
    "                     method='animate',\n",
    "                     args=[None, {\n",
    "                         \"frame\": {\"duration\": 30, \"redraw\": True},\n",
    "                         \"fromcurrent\": True,\n",
    "                         \"transition\": {\"duration\": 0}\n",
    "                     }])\n",
    "            ]\n",
    "        )\n",
    "    ]\n",
    ")\n",
    "\n",
    "# ✅ Don't forget to assign frames\n",
    "fig.frames = frames\n",
    "fig.show()"
   ]
  }
 ],
 "metadata": {
  "colab": {
   "provenance": []
  },
  "kernelspec": {
   "display_name": "Python 3",
   "name": "python3"
  },
  "language_info": {
   "name": "python"
  }
 },
 "nbformat": 4,
 "nbformat_minor": 0
}
