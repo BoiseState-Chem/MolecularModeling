{
 "cells": [
  {
   "cell_type": "markdown",
   "metadata": {},
   "source": [
    "# XX - Template"
   ]
  },
  {
   "cell_type": "markdown",
   "metadata": {},
   "source": [
    "**Overview** \n",
    "\n",
    "This notebook guides you through ...  "
   ]
  },
  {
   "cell_type": "code",
   "execution_count": null,
   "metadata": {},
   "outputs": [],
   "source": [
    "# @title Modules Setup { display-mode: \"form\" }\n",
    "import numpy as np\n",
    "# Install Plotly (if not already)\n",
    "!pip install -q plotly > /dev/null\n",
    "import plotly.graph_objects as go\n",
    "from plotly.subplots import make_subplots\n",
    "import matplotlib.pyplot as plt\n",
    "!pip install -q rdkit > /dev/null\n",
    "from rdkit import Chem\n",
    "from rdkit.Chem import AllChem\n",
    "from rdkit.Chem import Draw"
   ]
  },
  {
   "cell_type": "markdown",
   "metadata": {},
   "source": [
    "**Problem** \n",
    "\n",
    "Lorem Ipsum ... \n",
    "\n",
    "**Model**\n",
    "\n",
    "Lorem Ipsum ...\n",
    "\n",
    ">Smart question?\n",
    "\n",
    "Lorem Ipsum ..."
   ]
  },
  {
   "cell_type": "markdown",
   "metadata": {},
   "source": [
    "**Questions**\n",
    "\n",
    "Before you run any simulation, answer the following question(s):\n",
    "\n",
    "1. Something\n",
    "2. Seomthing else\n",
    "\n",
    "Run the simulation, change the parameters, and run the simulation again as many times as needed to answer the following question(s):\n",
    "\n",
    "3. Other questions"
   ]
  },
  {
   "cell_type": "code",
   "execution_count": null,
   "metadata": {},
   "outputs": [],
   "source": [
    "# @title Simulation Parameters  { display-mode: \"form\" }\n",
    "a = 10.0 # @param {type:\"number\"}\n",
    "b = 1  # @param {type:\"number\"}\n",
    "c = 0.1  # @param {type:\"number\"}\n",
    "d = 1000  # @param {type:\"integer\"}\n",
    "f = 1 # @param {type:\"integer\"}\n",
    "list = \"option 1\"  # @param [\"option 1\", \"option 2\"]\n",
    "logical = True # @param {type:\"boolean\"}"
   ]
  },
  {
   "cell_type": "code",
   "execution_count": null,
   "metadata": {},
   "outputs": [],
   "source": [
    "# @title Run and Visualize the Simulation  { display-mode: \"form\" }\n",
    "# Initial conditions\n",
    "\n",
    "\n",
    "# Run the simulation \n",
    "\n",
    "\n",
    "# The following code creates an animated plot using Plotly\n",
    "# --- Initial figure ---\n",
    "fig = make_subplots(\n",
    "    rows=2, cols=1,\n",
    "    shared_xaxes=False,\n",
    "    row_heights=[0.4, 0.6],           # Bottom plot a bit taller\n",
    "    vertical_spacing=0.20,            # Increase spacing between plots\n",
    "    subplot_titles=(\"A\", \"B\")\n",
    ")\n",
    "\n",
    "# Initial plots\n",
    "\n",
    "\n",
    "# --- Animation frames ---\n",
    "frames = []\n",
    "\n",
    "# ✅ Don't forget to assign frames\n",
    "fig.frames = frames\n",
    "fig.show()"
   ]
  },
  {
   "cell_type": "markdown",
   "metadata": {},
   "source": [
    "**Homework Assignment**\n",
    "\n",
    "Pick one (or more) of the following projects:\n",
    "1. Modify the code to xxx\n",
    "2. Modify the code to xxx\n",
    "3. Modify the code to handle one of the following systems:\n",
    "    * xxx\n",
    "    * xxx \n",
    "    * xxx\n",
    "\n",
    "For the modified code, answer the following questions:\n",
    "\n",
    "NOTE: It is not necessary that the modified code produces an animation, but you should be able to visualize the results of the simulation in some way. "
   ]
  }
 ],
 "metadata": {
  "colab": {
   "provenance": []
  },
  "kernelspec": {
   "display_name": "Python 3",
   "name": "python3"
  },
  "language_info": {
   "codemirror_mode": {
    "name": "ipython",
    "version": 3
   },
   "file_extension": ".py",
   "mimetype": "text/x-python",
   "name": "python",
   "nbconvert_exporter": "python",
   "pygments_lexer": "ipython3"
  }
 },
 "nbformat": 4,
 "nbformat_minor": 0
}
